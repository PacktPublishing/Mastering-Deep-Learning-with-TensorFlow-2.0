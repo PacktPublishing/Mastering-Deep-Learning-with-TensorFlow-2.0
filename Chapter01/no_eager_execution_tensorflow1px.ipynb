{
 "cells": [
  {
   "cell_type": "code",
   "execution_count": 1,
   "metadata": {},
   "outputs": [
    {
     "name": "stdout",
     "output_type": "stream",
     "text": [
      "1.7.1\n"
     ]
    }
   ],
   "source": [
    "#import modules\n",
    "import tensorflow as tf\n",
    "\n",
    "# Verify the tensorflow version \n",
    "print(tf.__version__)\n"
   ]
  },
  {
   "cell_type": "code",
   "execution_count": 2,
   "metadata": {},
   "outputs": [
    {
     "data": {
      "text/plain": [
       "False"
      ]
     },
     "execution_count": 2,
     "metadata": {},
     "output_type": "execute_result"
    }
   ],
   "source": [
    "# Check if eager execution allowed\n",
    "tf.executing_eagerly() "
   ]
  },
  {
   "cell_type": "code",
   "execution_count": 3,
   "metadata": {},
   "outputs": [
    {
     "name": "stdout",
     "output_type": "stream",
     "text": [
      "[[-0.8474333   0.7448774   2.4805427 ]\n",
      " [ 1.7149274   1.369987   -0.36666977]\n",
      " [-0.01707703 -1.2533426   0.81924933]]\n"
     ]
    }
   ],
   "source": [
    "# Create two random tensor matrices and add them\n",
    "a = tf.random.normal((3, 3))\n",
    "\n",
    "b = tf.random.normal((3, 3))\n",
    "\n",
    "c = tf.add(a,b)\n",
    "\n",
    "with tf.Session() as sess:\n",
    "    result = sess.run(c)\n",
    "    print(result)"
   ]
  },
  {
   "cell_type": "code",
   "execution_count": 4,
   "metadata": {},
   "outputs": [
    {
     "name": "stdout",
     "output_type": "stream",
     "text": [
      "[[ 2.2996545  -0.5654764   0.5937689 ]\n",
      " [ 0.19906399  0.15346451  0.48401126]\n",
      " [-0.36904284 -0.6500323  -0.5577736 ]]\n"
     ]
    }
   ],
   "source": [
    "# Multiply two random tensor matrices\n",
    "with tf.Session() as sess:\n",
    "    result = sess.run(a*b)\n",
    "    print(result)"
   ]
  },
  {
   "cell_type": "code",
   "execution_count": null,
   "metadata": {},
   "outputs": [],
   "source": []
  }
 ],
 "metadata": {
  "kernelspec": {
   "display_name": "Python [conda env:tensorflow]",
   "language": "python",
   "name": "conda-env-tensorflow-py"
  },
  "language_info": {
   "codemirror_mode": {
    "name": "ipython",
    "version": 3
   },
   "file_extension": ".py",
   "mimetype": "text/x-python",
   "name": "python",
   "nbconvert_exporter": "python",
   "pygments_lexer": "ipython3",
   "version": "3.5.2"
  }
 },
 "nbformat": 4,
 "nbformat_minor": 2
}
