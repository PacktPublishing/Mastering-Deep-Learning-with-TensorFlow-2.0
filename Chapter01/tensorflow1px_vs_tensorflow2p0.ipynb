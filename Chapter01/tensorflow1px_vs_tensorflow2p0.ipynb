{
 "cells": [
  {
   "cell_type": "code",
   "execution_count": 1,
   "metadata": {},
   "outputs": [
    {
     "name": "stdout",
     "output_type": "stream",
     "text": [
      "1.12.0\n",
      "9\n"
     ]
    }
   ],
   "source": [
    "# TensorFlow 1.x\n",
    "import tensorflow as tf\n",
    "# Create two random tensor matrices and add them\n",
    "def my_function(a,b):\n",
    "    return tf.add(a,b)\n",
    "\n",
    "print(tf.__version__)\n",
    "a = tf.placeholder(tf.int64)\n",
    "b = tf.placeholder(tf.int64)\n",
    "init = tf.global_variables_initializer()\n",
    "session = tf.Session()\n",
    "session.run(init)\n",
    "output = session.run(my_function(a,b), feed_dict={a:4, b:5})\n",
    "print(output)"
   ]
  },
  {
   "cell_type": "code",
   "execution_count": 1,
   "metadata": {},
   "outputs": [
    {
     "name": "stdout",
     "output_type": "stream",
     "text": [
      "2.0.0-dev20190312\n",
      "tf.Tensor(9, shape=(), dtype=int32)\n"
     ]
    }
   ],
   "source": [
    "# TensorFlow 2.0\n",
    "import tensorflow as tf\n",
    "# Create two random tensor matrices and add them\n",
    "def my_function(a,b):\n",
    "    return tf.add(a,b)\n",
    "\n",
    "print(tf.__version__)\n",
    "\n",
    "output = my_function(a=4,b=5)\n",
    "print(output)"
   ]
  },
  {
   "cell_type": "code",
   "execution_count": null,
   "metadata": {},
   "outputs": [],
   "source": []
  }
 ],
 "metadata": {
  "kernelspec": {
   "display_name": "Python [conda env:keras]",
   "language": "python",
   "name": "conda-env-keras-py"
  },
  "language_info": {
   "codemirror_mode": {
    "name": "ipython",
    "version": 3
   },
   "file_extension": ".py",
   "mimetype": "text/x-python",
   "name": "python",
   "nbconvert_exporter": "python",
   "pygments_lexer": "ipython3",
   "version": "3.6.8"
  }
 },
 "nbformat": 4,
 "nbformat_minor": 2
}
