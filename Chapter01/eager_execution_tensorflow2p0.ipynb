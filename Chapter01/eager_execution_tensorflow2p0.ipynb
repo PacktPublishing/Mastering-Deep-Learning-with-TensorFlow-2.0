{
 "cells": [
  {
   "cell_type": "code",
   "execution_count": 1,
   "metadata": {},
   "outputs": [
    {
     "data": {
      "text/plain": [
       "True"
      ]
     },
     "execution_count": 1,
     "metadata": {},
     "output_type": "execute_result"
    }
   ],
   "source": [
    "#import modules\n",
    "import tensorflow as tf\n",
    "\n",
    "# Check if eager execution allowed\n",
    "tf.executing_eagerly() "
   ]
  },
  {
   "cell_type": "code",
   "execution_count": 2,
   "metadata": {},
   "outputs": [
    {
     "name": "stdout",
     "output_type": "stream",
     "text": [
      "2.0.0-dev20190312\n"
     ]
    }
   ],
   "source": [
    "# Verify the tensorflow version \n",
    "print(tf.__version__)"
   ]
  },
  {
   "cell_type": "code",
   "execution_count": 3,
   "metadata": {},
   "outputs": [
    {
     "name": "stdout",
     "output_type": "stream",
     "text": [
      "tf.Tensor(\n",
      "[[-0.77991253  1.2106223  -2.752781  ]\n",
      " [ 0.16683841  2.6813033   2.5160966 ]\n",
      " [ 0.3640358  -1.6790565  -0.3637447 ]], shape=(3, 3), dtype=float32)\n"
     ]
    }
   ],
   "source": [
    "# Create two random tensor matrices and add them\n",
    "a = tf.random.normal((3, 3))\n",
    "\n",
    "b = tf.random.normal((3, 3))\n",
    "c = tf.add(a,b)\n",
    "print(c)"
   ]
  },
  {
   "cell_type": "code",
   "execution_count": 4,
   "metadata": {},
   "outputs": [
    {
     "name": "stdout",
     "output_type": "stream",
     "text": [
      "tf.Tensor(\n",
      "[[ 0.07461509  0.36540586  1.1067437 ]\n",
      " [-0.6112719   1.7184025   0.7911235 ]\n",
      " [-1.1533982   0.7034673   0.01439272]], shape=(3, 3), dtype=float32)\n"
     ]
    }
   ],
   "source": [
    "# Multiply two random tensor matrices\n",
    "print(a*b)"
   ]
  },
  {
   "cell_type": "code",
   "execution_count": null,
   "metadata": {},
   "outputs": [],
   "source": []
  }
 ],
 "metadata": {
  "kernelspec": {
   "display_name": "Python [conda env:tf2p0]",
   "language": "python",
   "name": "conda-env-tf2p0-py"
  },
  "language_info": {
   "codemirror_mode": {
    "name": "ipython",
    "version": 3
   },
   "file_extension": ".py",
   "mimetype": "text/x-python",
   "name": "python",
   "nbconvert_exporter": "python",
   "pygments_lexer": "ipython3",
   "version": "3.6.8"
  }
 },
 "nbformat": 4,
 "nbformat_minor": 2
}
