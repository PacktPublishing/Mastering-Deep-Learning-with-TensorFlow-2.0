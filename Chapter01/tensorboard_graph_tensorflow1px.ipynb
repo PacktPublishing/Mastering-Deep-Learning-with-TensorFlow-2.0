{
 "cells": [
  {
   "cell_type": "code",
   "execution_count": 1,
   "metadata": {},
   "outputs": [
    {
     "name": "stdout",
     "output_type": "stream",
     "text": [
      "1.12.0\n"
     ]
    }
   ],
   "source": [
    "# TensorFlow 1.x code\n",
    "import tensorflow as tf\n",
    "import numpy as np\n",
    "\n",
    "print(tf.__version__)"
   ]
  },
  {
   "cell_type": "code",
   "execution_count": 2,
   "metadata": {},
   "outputs": [
    {
     "name": "stdout",
     "output_type": "stream",
     "text": [
      "[[0.00426693 0.         0.        ]\n",
      " [0.         0.         0.        ]\n",
      " [0.         0.03625815 0.00484619]]\n"
     ]
    }
   ],
   "source": [
    "#import tensorflow as tf\n",
    "def simple_neuron(x,y):\n",
    "    activity = tf.matmul(x,y)\n",
    "    return tf.nn.relu(activity)\n",
    "\n",
    "x = tf.placeholder(tf.float64, (3,3))\n",
    "y = tf.placeholder(tf.float64,(3,3))\n",
    "\n",
    "out = simple_neuron(x,y)\n",
    "out = simple_neuron(y,x)\n",
    "\n",
    "x_input = np.random.normal(0, 0.1, (3,3))\n",
    "y_input = np.random.normal(0, 0.1, (3,3))\n",
    "\n",
    "init = tf.global_variables_initializer()\n",
    "\n",
    "with tf.Session() as sess:\n",
    "    sess.run(init)\n",
    "    sess.run(init)\n",
    "    writer = tf.summary.FileWriter('graphs', sess.graph)\n",
    "    print(sess.run(out, feed_dict={x:x_input, y:y_input}))\n",
    "\n",
    "writer.close()\n",
    "   "
   ]
  }
 ],
 "metadata": {
  "kernelspec": {
   "display_name": "Python [conda env:tf1px]",
   "language": "python",
   "name": "conda-env-tf1px-py"
  },
  "language_info": {
   "codemirror_mode": {
    "name": "ipython",
    "version": 3
   },
   "file_extension": ".py",
   "mimetype": "text/x-python",
   "name": "python",
   "nbconvert_exporter": "python",
   "pygments_lexer": "ipython3",
   "version": "3.6.8"
  }
 },
 "nbformat": 4,
 "nbformat_minor": 2
}
